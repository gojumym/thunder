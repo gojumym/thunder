{
 "metadata": {
  "language_info": {
   "codemirror_mode": {
    "name": "ipython",
    "version": 3
   },
   "file_extension": ".py",
   "mimetype": "text/x-python",
   "name": "python",
   "nbconvert_exporter": "python",
   "pygments_lexer": "ipython3",
   "version": "3.8.5"
  },
  "orig_nbformat": 2,
  "kernelspec": {
   "name": "python385jvsc74a57bd06d46af94c2bbce495f1e668725902fa517c90b1782bcfe2fce0dd9868df553d3",
   "display_name": "Python 3.8.5 64-bit (conda)"
  }
 },
 "nbformat": 4,
 "nbformat_minor": 2,
 "cells": [
  {
   "cell_type": "code",
   "execution_count": 1,
   "metadata": {},
   "outputs": [],
   "source": [
    "import os\n",
    "import pandas as pd\n",
    "import cv2\n",
    "import numpy as np\n",
    "import matplotlib.pyplot as plt\n",
    "from sklearn.metrics.pairwise import cosine_similarity\n",
    "import pickle\n",
    "import platform"
   ]
  },
  {
   "cell_type": "code",
   "execution_count": 2,
   "metadata": {},
   "outputs": [],
   "source": [
    "def search(dirname):\n",
    "    result_list = []\n",
    "    filenames = os.listdir(dirname)\n",
    "    for filename in filenames:\n",
    "        full_filename = os.path.join(dirname, filename)\n",
    "        result_list.append(full_filename)\n",
    "    return result_list"
   ]
  },
  {
   "cell_type": "code",
   "execution_count": 3,
   "metadata": {},
   "outputs": [],
   "source": [
    "if platform.system()=='Windows':\n",
    "    root_dir = '.\\\\data'\n",
    "else:\n",
    "    root_dir = './data'\n",
    "\n",
    "meta_dir = search(os.path.join(root_dir, 'meta'))\n",
    "npy_dir = search(os.path.join(root_dir, 'npy'))\n",
    "pickle_dir = search(os.path.join(root_dir, 'pickle'))"
   ]
  },
  {
   "cell_type": "code",
   "execution_count": 21,
   "metadata": {},
   "outputs": [
    {
     "output_type": "stream",
     "name": "stdout",
     "text": [
      ".\\data\\pickle\\02_shirt.pickle\n"
     ]
    }
   ],
   "source": [
    "print(pickle_dir[1])"
   ]
  },
  {
   "cell_type": "code",
   "execution_count": 27,
   "metadata": {},
   "outputs": [
    {
     "output_type": "stream",
     "name": "stdout",
     "text": [
      "0\n",
      "일치\n",
      "1\n",
      "일치\n",
      "2\n",
      "일치\n",
      "3\n",
      "일치\n",
      "4\n",
      "일치\n",
      "5\n",
      "일치\n",
      "6\n",
      "일치\n",
      "7\n",
      "일치\n",
      "8\n",
      "일치\n",
      "9\n",
      "일치\n",
      "10\n",
      "일치\n",
      "11\n",
      "일치\n"
     ]
    }
   ],
   "source": [
    "for category in range(12):\n",
    "\n",
    "    pickle_dir = search(os.path.join(root_dir, 'pickle'))\n",
    "    with open(pickle_dir[category], 'rb') as f:\n",
    "        img_path_list = pickle.load(f)\n",
    "\n",
    "    img_list = np.load(npy_dir[category])\n",
    "\n",
    "    meta = pd.read_csv(meta_dir[category], encoding='utf-8')\n",
    "\n",
    "    if len(img_list) == len(img_path_list):\n",
    "        print(category)\n",
    "        print(\"일치\")\n",
    "    else:\n",
    "        print(category)\n",
    "        print(\"불일치\")\n"
   ]
  },
  {
   "cell_type": "code",
   "execution_count": 25,
   "metadata": {},
   "outputs": [
    {
     "output_type": "stream",
     "name": "stdout",
     "text": [
      "5732\n5732\n"
     ]
    }
   ],
   "source": [
    "print(len(img_list))\n",
    "print(len(img_path_list))"
   ]
  },
  {
   "cell_type": "code",
   "execution_count": 6,
   "metadata": {},
   "outputs": [
    {
     "output_type": "execute_result",
     "data": {
      "text/plain": [
       "4143"
      ]
     },
     "metadata": {},
     "execution_count": 6
    }
   ],
   "source": []
  },
  {
   "cell_type": "code",
   "execution_count": 7,
   "metadata": {},
   "outputs": [
    {
     "output_type": "execute_result",
     "data": {
      "text/plain": [
       "'101553881_3.jpg'"
      ]
     },
     "metadata": {},
     "execution_count": 7
    }
   ],
   "source": [
    "img_path_list[6].split('/')[5]"
   ]
  },
  {
   "cell_type": "code",
   "execution_count": 8,
   "metadata": {},
   "outputs": [
    {
     "output_type": "execute_result",
     "data": {
      "text/plain": [
       "'D:/bunjang/data/backup/ginpal/101553881_3.jpg'"
      ]
     },
     "metadata": {},
     "execution_count": 8
    }
   ],
   "source": [
    "img_path_list[6]"
   ]
  },
  {
   "cell_type": "code",
   "execution_count": 9,
   "metadata": {},
   "outputs": [
    {
     "output_type": "execute_result",
     "data": {
      "text/plain": [
       "array([[0.74901961, 0.81960784, 0.88627451, ..., 0.4745098 , 0.57647059,\n",
       "        0.69411765]])"
      ]
     },
     "metadata": {},
     "execution_count": 9
    }
   ],
   "source": [
    "img_list[0]"
   ]
  },
  {
   "cell_type": "code",
   "execution_count": 1,
   "metadata": {},
   "outputs": [
    {
     "output_type": "stream",
     "name": "stdout",
     "text": [
      "d:\\bunjang\\server\n"
     ]
    }
   ],
   "source": [
    "print(os.getcwd())"
   ]
  }
 ]
}